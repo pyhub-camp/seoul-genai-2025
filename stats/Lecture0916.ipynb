{
 "cells": [
  {
   "cell_type": "code",
   "execution_count": 17,
   "id": "916d6439-a7f4-4a72-854f-8013f9438e8c",
   "metadata": {},
   "outputs": [],
   "source": [
    "import numpy  as np\n",
    "import pandas as pd\n",
    "from sklearn.ensemble      import RandomForestRegressor, GradientBoostingRegressor\n",
    "from sklearn.linear_model  import LinearRegression, Ridge, Lasso\n",
    "from sklearn.metrics       import mean_squared_error\n",
    "from xgboost               import XGBRegressor\n",
    "from sklearn.preprocessing import MinMaxScaler, StandardScaler"
   ]
  },
  {
   "cell_type": "code",
   "execution_count": 2,
   "id": "6016c56e-28ad-492c-bf7d-aded68eda761",
   "metadata": {},
   "outputs": [
    {
     "name": "stdout",
     "output_type": "stream",
     "text": [
      "   id  area  bedrooms  bathrooms  stories mainroad guestroom basement  \\\n",
      "0   1  7420         4          2        3      yes        no       no   \n",
      "1   2  8960         4          4        4      yes        no       no   \n",
      "2   3  9960         3          2        2      yes        no      yes   \n",
      "3   4  7500         4          2        2      yes        no      yes   \n",
      "4   5  7420         4          1        2      yes       yes      yes   \n",
      "\n",
      "  hotwaterheating airconditioning  parking prefarea furnishingstatus     price  \n",
      "0              no             yes        2      yes        furnished  13300000  \n",
      "1              no             yes        3       no        furnished  12250000  \n",
      "2              no              no        2      yes   semi-furnished  12250000  \n",
      "3              no             yes        3      yes        furnished  12215000  \n",
      "4              no             yes        2       no        furnished  11410000  \n"
     ]
    }
   ],
   "source": [
    "# D드라이브의 SEOUL 폴더에 있는 Housing.xlsx 파일 읽기\n",
    "file_path = \"D:/SEOUL/Housing.xlsx\"\n",
    "\n",
    "# 첫 번째 시트 데이터 읽어서 housing에 저장\n",
    "housing = pd.read_excel(file_path, sheet_name = 0)\n",
    "\n",
    "# 데이터 확인\n",
    "print(housing.head())"
   ]
  },
  {
   "cell_type": "code",
   "execution_count": 3,
   "id": "73c70393-d60c-4b57-a281-92781ee85234",
   "metadata": {},
   "outputs": [
    {
     "name": "stdout",
     "output_type": "stream",
     "text": [
      "<class 'pandas.core.frame.DataFrame'>\n",
      "RangeIndex: 545 entries, 0 to 544\n",
      "Data columns (total 14 columns):\n",
      " #   Column            Non-Null Count  Dtype \n",
      "---  ------            --------------  ----- \n",
      " 0   id                545 non-null    int64 \n",
      " 1   area              545 non-null    int64 \n",
      " 2   bedrooms          545 non-null    int64 \n",
      " 3   bathrooms         545 non-null    int64 \n",
      " 4   stories           545 non-null    int64 \n",
      " 5   mainroad          545 non-null    object\n",
      " 6   guestroom         545 non-null    object\n",
      " 7   basement          545 non-null    object\n",
      " 8   hotwaterheating   545 non-null    object\n",
      " 9   airconditioning   545 non-null    object\n",
      " 10  parking           545 non-null    int64 \n",
      " 11  prefarea          545 non-null    object\n",
      " 12  furnishingstatus  545 non-null    object\n",
      " 13  price             545 non-null    int64 \n",
      "dtypes: int64(7), object(7)\n",
      "memory usage: 59.7+ KB\n",
      "None\n"
     ]
    }
   ],
   "source": [
    "# 데이터 정보 보기\n",
    "print(housing.info())"
   ]
  },
  {
   "cell_type": "code",
   "execution_count": 4,
   "id": "559cca63-3360-40f5-a491-608043329b4a",
   "metadata": {},
   "outputs": [
    {
     "name": "stdout",
     "output_type": "stream",
     "text": [
      "   area  bedrooms  bathrooms  stories mainroad guestroom basement  \\\n",
      "0  7420         4          2        3      yes        no       no   \n",
      "1  8960         4          4        4      yes        no       no   \n",
      "2  9960         3          2        2      yes        no      yes   \n",
      "3  7500         4          2        2      yes        no      yes   \n",
      "4  7420         4          1        2      yes       yes      yes   \n",
      "\n",
      "  hotwaterheating airconditioning  parking prefarea furnishingstatus     price  \n",
      "0              no             yes        2      yes        furnished  13300000  \n",
      "1              no             yes        3       no        furnished  12250000  \n",
      "2              no              no        2      yes   semi-furnished  12250000  \n",
      "3              no             yes        3      yes        furnished  12215000  \n",
      "4              no             yes        2       no        furnished  11410000  \n"
     ]
    }
   ],
   "source": [
    "# 데이터 전처리(Data Pre-Processing) : id 열을 삭제하기\n",
    "housing = housing.drop(columns = [\"id\"])\n",
    "print(housing.head())"
   ]
  },
  {
   "cell_type": "code",
   "execution_count": 9,
   "id": "3216cb3f-360d-412a-888c-a1fe5c51a860",
   "metadata": {},
   "outputs": [
    {
     "name": "stdout",
     "output_type": "stream",
     "text": [
      "   area  bedrooms  bathrooms  stories  parking     price  mainroad_no  \\\n",
      "0  7420         4          2        3        2  13300000        False   \n",
      "1  8960         4          4        4        3  12250000        False   \n",
      "2  9960         3          2        2        2  12250000        False   \n",
      "3  7500         4          2        2        3  12215000        False   \n",
      "4  7420         4          1        2        2  11410000        False   \n",
      "\n",
      "   mainroad_yes  guestroom_no  guestroom_yes  ...  basement_yes  \\\n",
      "0          True          True          False  ...         False   \n",
      "1          True          True          False  ...         False   \n",
      "2          True          True          False  ...          True   \n",
      "3          True          True          False  ...          True   \n",
      "4          True         False           True  ...          True   \n",
      "\n",
      "   hotwaterheating_no  hotwaterheating_yes  airconditioning_no  \\\n",
      "0                True                False               False   \n",
      "1                True                False               False   \n",
      "2                True                False                True   \n",
      "3                True                False               False   \n",
      "4                True                False               False   \n",
      "\n",
      "   airconditioning_yes  prefarea_no  prefarea_yes  furnishingstatus_furnished  \\\n",
      "0                 True        False          True                        True   \n",
      "1                 True         True         False                        True   \n",
      "2                False        False          True                       False   \n",
      "3                 True        False          True                        True   \n",
      "4                 True         True         False                        True   \n",
      "\n",
      "   furnishingstatus_semi-furnished  furnishingstatus_unfurnished  \n",
      "0                            False                         False  \n",
      "1                            False                         False  \n",
      "2                             True                         False  \n",
      "3                            False                         False  \n",
      "4                            False                         False  \n",
      "\n",
      "[5 rows x 21 columns]\n",
      "\n",
      "변환 후 데이터 크기: (545, 21)\n"
     ]
    }
   ],
   "source": [
    "# 데이터 전처리 : 범주형 데이터 -> One-Hot Encoding, 더미변수\n",
    "# mainroad, guestroom, basement, hotwaterheating, airconditioning, prefarea, furnishingstatus\n",
    "\n",
    "# 범주형 변수 목록\n",
    "categorical_cols = [\n",
    "    \"mainroad\", \n",
    "    \"guestroom\", \n",
    "    \"basement\", \n",
    "    \"hotwaterheating\", \n",
    "    \"airconditioning\", \n",
    "    \"prefarea\", \n",
    "    \"furnishingstatus\"\n",
    "]\n",
    "\n",
    "# One-Hot Encoding 적용\n",
    "housing = pd.get_dummies(housing, columns = categorical_cols, drop_first = False)\n",
    "\n",
    "# 결과 확인\n",
    "print(housing.head())\n",
    "print(\"\\n변환 후 데이터 크기:\", housing.shape)"
   ]
  },
  {
   "cell_type": "code",
   "execution_count": 11,
   "id": "3f6e9518-681c-4c10-9dfb-bc50c298f2ef",
   "metadata": {},
   "outputs": [
    {
     "name": "stdout",
     "output_type": "stream",
     "text": [
      "X_train 크기: (381, 20)\n",
      "X_test 크기: (164, 20)\n",
      "y_train 크기: (381,)\n",
      "y_test 크기: (164,)\n"
     ]
    }
   ],
   "source": [
    "# 데이터 분할하기 : 훈련 데이터(70%), 평가 데이터(30%)\n",
    "# y : price\n",
    "# X : price를 제외한 모든 열\n",
    "\n",
    "X = housing.drop(columns = [\"price\"])\n",
    "y = housing[\"price\"]\n",
    "\n",
    "# 훈련 70%, 평가 30% 데이터 분할\n",
    "X_train, X_test, y_train, y_test = train_test_split(X, \n",
    "                                                    y, \n",
    "                                                    test_size    = 0.3, \n",
    "                                                    random_state = 1001)\n",
    "\n",
    "# 확인\n",
    "print(\"X_train 크기:\", X_train.shape)\n",
    "print(\"X_test 크기:\",  X_test.shape)\n",
    "print(\"y_train 크기:\", y_train.shape)\n",
    "print(\"y_test 크기:\",  y_test.shape)"
   ]
  },
  {
   "cell_type": "code",
   "execution_count": 14,
   "id": "0ecf12d5-da01-4a92-9cf3-4d454561bb33",
   "metadata": {},
   "outputs": [
    {
     "name": "stdout",
     "output_type": "stream",
     "text": [
      "Linear Regression RMSE: 1114820.37\n",
      "Ridge Regression RMSE: 1115174.13\n",
      "Lasso Regression RMSE: 1114820.37\n",
      "Random Forest RMSE: 1084090.00\n",
      "Gradient Boosting RMSE: 1127694.22\n",
      "XGBoost RMSE: 1149479.37\n",
      "\n",
      "▶ RMSE 기준 성능 비교\n",
      "               Model          RMSE\n",
      "3      Random Forest  1.084090e+06\n",
      "0  Linear Regression  1.114820e+06\n",
      "2   Lasso Regression  1.114820e+06\n",
      "1   Ridge Regression  1.115174e+06\n",
      "4  Gradient Boosting  1.127694e+06\n",
      "5            XGBoost  1.149479e+06\n"
     ]
    }
   ],
   "source": [
    "# 예측모형\n",
    "\n",
    "# 사용할 모델들 정의\n",
    "models = {\n",
    "    \"Linear Regression\" : LinearRegression(),\n",
    "    \"Ridge Regression\"  : Ridge(alpha = 1.0),\n",
    "    \"Lasso Regression\"  : Lasso(alpha = 0.01),\n",
    "    \"Random Forest\"     : RandomForestRegressor(n_estimators = 200, random_state = 42),\n",
    "    \"Gradient Boosting\" : GradientBoostingRegressor(n_estimators = 200, random_state = 42),\n",
    "    \"XGBoost\"           : XGBRegressor(n_estimators = 200, random_state = 42)\n",
    "}\n",
    "\n",
    "# 성능 저장용 딕셔너리\n",
    "results = {}\n",
    "\n",
    "# 각 모델 학습 및 예측\n",
    "for name, model in models.items():\n",
    "    model.fit(X_train, y_train)                                 # 훈련\n",
    "    y_pred        = model.predict(X_test)                       # 예측\n",
    "    rmse          = np.sqrt(mean_squared_error(y_test, y_pred)) # RMSE 계산\n",
    "    results[name] = rmse\n",
    "    print(f\"{name} RMSE: {rmse:.2f}\")\n",
    "\n",
    "# 결과를 DataFrame으로 정리\n",
    "results_df = pd.DataFrame(list(results.items()), \n",
    "                          columns = [\"Model\", \"RMSE\"]).sort_values(by = \"RMSE\")\n",
    "print(\"\\n▶ RMSE 기준 성능 비교\")\n",
    "print(results_df)"
   ]
  },
  {
   "cell_type": "code",
   "execution_count": 16,
   "id": "2d5e0b0b-54d1-422b-99ab-0435d454f2bf",
   "metadata": {},
   "outputs": [
    {
     "name": "stdout",
     "output_type": "stream",
     "text": [
      "Linear Regression RMSE: 1234106.75\n",
      "Ridge Regression RMSE: 1226824.36\n",
      "Lasso Regression RMSE: 1234106.75\n",
      "Random Forest RMSE: 1355183.56\n",
      "Gradient Boosting RMSE: 1305445.02\n",
      "XGBoost RMSE: 1435543.30\n",
      "\n",
      "▶ RMSE 기준 성능 비교 (Min-Max Scaling 적용 후)\n",
      "               Model          RMSE\n",
      "1   Ridge Regression  1.226824e+06\n",
      "0  Linear Regression  1.234107e+06\n",
      "2   Lasso Regression  1.234107e+06\n",
      "4  Gradient Boosting  1.305445e+06\n",
      "3      Random Forest  1.355184e+06\n",
      "5            XGBoost  1.435543e+06\n"
     ]
    }
   ],
   "source": [
    "# 예측모형의 성능을 개선하고 싶음\n",
    "# (1) X 변환 : Min-Max Normalization(정규화) : X가 0~1 사이로 변경\n",
    "# 1. Min-Max Scaling\n",
    "scaler   = MinMaxScaler()\n",
    "X_scaled = scaler.fit_transform(X)\n",
    "\n",
    "# 2. 훈련/평가 데이터 다시 분할\n",
    "X_train_scaled, X_test_scaled, y_train, y_test = train_test_split(\n",
    "    X_scaled, y, test_size = 0.3, random_state = 42\n",
    ")\n",
    "\n",
    "# 3. 사용할 모델 정의\n",
    "models = {\n",
    "    \"Linear Regression\": LinearRegression(),\n",
    "    \"Ridge Regression\": Ridge(alpha=1.0),\n",
    "    \"Lasso Regression\": Lasso(alpha=0.01),\n",
    "    \"Random Forest\": RandomForestRegressor(n_estimators=200, random_state=42),\n",
    "    \"Gradient Boosting\": GradientBoostingRegressor(n_estimators=200, random_state=42),\n",
    "    \"XGBoost\": XGBRegressor(n_estimators=200, random_state=42)\n",
    "}\n",
    "\n",
    "# 4. 성능 저장용 딕셔너리\n",
    "results = {}\n",
    "\n",
    "# 5. 각 모델 학습 및 평가\n",
    "for name, model in models.items():\n",
    "    model.fit(X_train_scaled, y_train)                       # 학습\n",
    "    y_pred = model.predict(X_test_scaled)                    # 예측\n",
    "    rmse = np.sqrt(mean_squared_error(y_test, y_pred))       # RMSE 계산\n",
    "    results[name] = rmse\n",
    "    print(f\"{name} RMSE: {rmse:.2f}\")\n",
    "\n",
    "# 6. 결과를 DataFrame으로 정리\n",
    "results_df = pd.DataFrame(list(results.items()), columns=[\"Model\", \"RMSE\"]).sort_values(by=\"RMSE\")\n",
    "print(\"\\n▶ RMSE 기준 성능 비교 (Min-Max Scaling 적용 후)\")\n",
    "print(results_df)"
   ]
  },
  {
   "cell_type": "code",
   "execution_count": 18,
   "id": "2abdcb2d-30ae-4804-808e-637cf5893c30",
   "metadata": {},
   "outputs": [
    {
     "name": "stdout",
     "output_type": "stream",
     "text": [
      "Linear Regression RMSE: 1234106.75\n",
      "Ridge Regression RMSE: 1233913.80\n",
      "Lasso Regression RMSE: 1234106.75\n",
      "Random Forest RMSE: 1356507.63\n",
      "Gradient Boosting RMSE: 1304525.31\n",
      "XGBoost RMSE: 1435543.30\n",
      "\n",
      "▶ RMSE 기준 성능 비교 (표준화 적용 후)\n",
      "               Model          RMSE\n",
      "1   Ridge Regression  1.233914e+06\n",
      "0  Linear Regression  1.234107e+06\n",
      "2   Lasso Regression  1.234107e+06\n",
      "4  Gradient Boosting  1.304525e+06\n",
      "3      Random Forest  1.356508e+06\n",
      "5            XGBoost  1.435543e+06\n"
     ]
    }
   ],
   "source": [
    "# (2) 표준화(Standardization)\n",
    "\n",
    "# 1. 표준화 (Standardization)\n",
    "scaler = StandardScaler()\n",
    "X_scaled = scaler.fit_transform(X)\n",
    "\n",
    "# 2. 훈련/평가 데이터 다시 분할 (70% / 30%)\n",
    "X_train_scaled, X_test_scaled, y_train, y_test = train_test_split(\n",
    "    X_scaled, y, test_size=0.3, random_state=42\n",
    ")\n",
    "\n",
    "# 3. 사용할 모델 정의\n",
    "models = {\n",
    "    \"Linear Regression\": LinearRegression(),\n",
    "    \"Ridge Regression\": Ridge(alpha=1.0),\n",
    "    \"Lasso Regression\": Lasso(alpha=0.01),\n",
    "    \"Random Forest\": RandomForestRegressor(n_estimators=200, random_state=42),\n",
    "    \"Gradient Boosting\": GradientBoostingRegressor(n_estimators=200, random_state=42),\n",
    "    \"XGBoost\": XGBRegressor(n_estimators=200, random_state=42)\n",
    "}\n",
    "\n",
    "# 4. 성능 저장용 딕셔너리\n",
    "results = {}\n",
    "\n",
    "# 5. 각 모델 학습 및 평가\n",
    "for name, model in models.items():\n",
    "    model.fit(X_train_scaled, y_train)                       # 학습\n",
    "    y_pred = model.predict(X_test_scaled)                    # 예측\n",
    "    rmse = np.sqrt(mean_squared_error(y_test, y_pred))       # RMSE 계산\n",
    "    results[name] = rmse\n",
    "    print(f\"{name} RMSE: {rmse:.2f}\")\n",
    "\n",
    "# 6. 결과를 DataFrame으로 정리\n",
    "results_df = pd.DataFrame(list(results.items()), columns=[\"Model\", \"RMSE\"]).sort_values(by=\"RMSE\")\n",
    "print(\"\\n▶ RMSE 기준 성능 비교 (표준화 적용 후)\")\n",
    "print(results_df)"
   ]
  },
  {
   "cell_type": "code",
   "execution_count": null,
   "id": "750291ee-8290-4ed0-b47b-ff95e9c8c01e",
   "metadata": {},
   "outputs": [],
   "source": []
  }
 ],
 "metadata": {
  "kernelspec": {
   "display_name": "Python 3 (ipykernel)",
   "language": "python",
   "name": "python3"
  },
  "language_info": {
   "codemirror_mode": {
    "name": "ipython",
    "version": 3
   },
   "file_extension": ".py",
   "mimetype": "text/x-python",
   "name": "python",
   "nbconvert_exporter": "python",
   "pygments_lexer": "ipython3",
   "version": "3.12.7"
  }
 },
 "nbformat": 4,
 "nbformat_minor": 5
}
