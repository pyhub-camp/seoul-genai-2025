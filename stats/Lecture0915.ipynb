{
 "cells": [
  {
   "cell_type": "markdown",
   "id": "8e559562-7253-4a5b-8d17-6574c7d2c096",
   "metadata": {},
   "source": [
    "# 데이터분석 (2025년 9월 15일)\n",
    "\n",
    "+ 강사 : 이부일 대표님\n",
    "+ ChatGPT 대화 사본 : https://chatgpt.com/share/68c7cbda-4820-800f-8759-0372cc03b5d3\n",
    "\n",
    "---"
   ]
  },
  {
   "cell_type": "code",
   "execution_count": 15,
   "id": "9e761f14-7d25-4daa-82f5-52d90c7838e3",
   "metadata": {},
   "outputs": [],
   "source": [
    "# 패키지 로딩하기 : 패키지를 메모리에 올리는 기능\n",
    "import matplotlib.pyplot as plt\n",
    "import numpy             as np\n",
    "import pandas            as pd\n",
    "import seaborn           as sns"
   ]
  },
  {
   "cell_type": "code",
   "execution_count": 9,
   "id": "3f8b38df-4b1a-4ce7-a011-9f41d32d4400",
   "metadata": {},
   "outputs": [],
   "source": [
    "# 그래프의 한글 깨짐 처리\n",
    "plt.rcParams[\"font.family\"] = \"Malgun Gothic\""
   ]
  },
  {
   "cell_type": "markdown",
   "id": "d2a0187c-2f24-4b3c-8e38-202219663645",
   "metadata": {},
   "source": [
    "<div style=\"\n",
    "    background-color:#f0f9ff;\n",
    "    border:1px solid #cce7ff;\n",
    "    border-radius:15px;\n",
    "    padding:10px 15px;\n",
    "    margin:10px 0;\n",
    "    box-shadow:2px 2px 6px rgba(0,0,0,0.1);\n",
    "    font-family:Arial, sans-serif;\">\n",
    " 안녕하세요<br/>\n",
    "d 드라이브의 SEOUL 폴더에 '2025서울시부동산실거래가.xlsx' 파일을 읽어서<br/>\n",
    "seoul 이라는 이름으로 저장하는 파이썬 코드를 작성해 주세요.\n",
    "</div>"
   ]
  },
  {
   "cell_type": "code",
   "execution_count": 2,
   "id": "78e98218-aa45-42c5-b849-de26528a311f",
   "metadata": {},
   "outputs": [
    {
     "name": "stdout",
     "output_type": "stream",
     "text": [
      "  자치구명 법정동명 지번구분명         건물명       계약일  물건금액(만원)  건물면적(㎡)  토지면적(㎡)    층  \\\n",
      "0  성북구  정릉동    대지  정릉2차e-편한세상  20250912     89000    84.09      0.0  3.0   \n",
      "1  종로구  누하동   NaN         NaN  20250912     68000    44.96     56.0  NaN   \n",
      "2  강동구  천호동    대지     동아코아아파트  20250912     82000    78.93      0.0  9.0   \n",
      "3  금천구  시흥동   NaN         NaN  20250912     38800   147.60     99.0  NaN   \n",
      "4  도봉구  방학동    대지       유성하이츠  20250912     19000    53.34     41.0  3.0   \n",
      "\n",
      "     건축년도   건물용도  신고구분  \n",
      "0  2009.0    아파트  중개거래  \n",
      "1  1994.0  단독다가구  중개거래  \n",
      "2  1997.0    아파트  중개거래  \n",
      "3  1989.0  단독다가구   직거래  \n",
      "4  2012.0  연립다세대   직거래  \n"
     ]
    }
   ],
   "source": [
    "# 파일 경로\n",
    "file_path = \"D:/SEOUL/2025서울시부동산실거래가.xlsx\"\n",
    "\n",
    "# 엑셀 파일 읽기\n",
    "seoul = pd.read_excel(file_path)\n",
    "\n",
    "# 데이터 확인\n",
    "print(seoul.head())"
   ]
  },
  {
   "cell_type": "markdown",
   "id": "875b454b-551e-4847-95f1-a5fa3b9248d4",
   "metadata": {},
   "source": [
    "<div style=\"\n",
    "    background-color:#f0f9ff;\n",
    "    border:1px solid #cce7ff;\n",
    "    border-radius:15px;\n",
    "    padding:10px 15px;\n",
    "    margin:10px 0;\n",
    "    box-shadow:2px 2px 6px rgba(0,0,0,0.1);\n",
    "    font-family:Arial, sans-serif;\">\n",
    "seoul 데이터의 정보를 알려주세요.\n",
    "</div>"
   ]
  },
  {
   "cell_type": "code",
   "execution_count": 3,
   "id": "45f5d416-257c-4c2f-a845-09db04271eca",
   "metadata": {},
   "outputs": [
    {
     "name": "stdout",
     "output_type": "stream",
     "text": [
      "<class 'pandas.core.frame.DataFrame'>\n",
      "RangeIndex: 92606 entries, 0 to 92605\n",
      "Data columns (total 12 columns):\n",
      " #   Column    Non-Null Count  Dtype  \n",
      "---  ------    --------------  -----  \n",
      " 0   자치구명      92606 non-null  object \n",
      " 1   법정동명      92606 non-null  object \n",
      " 2   지번구분명     89843 non-null  object \n",
      " 3   건물명       89842 non-null  object \n",
      " 4   계약일       92606 non-null  int64  \n",
      " 5   물건금액(만원)  92606 non-null  int64  \n",
      " 6   건물면적(㎡)   92606 non-null  float64\n",
      " 7   토지면적(㎡)   92606 non-null  float64\n",
      " 8   층         89843 non-null  float64\n",
      " 9   건축년도      92289 non-null  float64\n",
      " 10  건물용도      92606 non-null  object \n",
      " 11  신고구분      92606 non-null  object \n",
      "dtypes: float64(4), int64(2), object(6)\n",
      "memory usage: 8.5+ MB\n",
      "None\n"
     ]
    }
   ],
   "source": [
    "# 데이터 정보(Information) 보기\n",
    "print(seoul.info())"
   ]
  },
  {
   "cell_type": "code",
   "execution_count": 4,
   "id": "7630aad1-daf7-432e-a704-037ddcb345df",
   "metadata": {},
   "outputs": [],
   "source": [
    "# DataFrame : 행과 열로 되어 있는 데이터, 2차원 구조\n",
    "# RangeIndex: 92606 : 행의 개수\n",
    "# total 12 columns  : 열(Column)의 개수, 변수(Variable), Feature(X), Label or Target(y)\n",
    "# 0 : 첫 번째\n",
    "# Null : 값이 없는 셀(빈 셀), Missing Value(결측치, 결측값)\n",
    "# Non-Null : 값이 있는 셀\n",
    "\n",
    "# Missing Value 탐지 및 처리\n",
    "# (1) 삭제한다. 행 기준\n",
    "# (2) 대체(Imputation)한다. 다른 특정한 값으로 변경, 평균, 중위수, ...\n",
    "\n",
    "# Dtype : Type of Data : 데이터의 유형, 값이 무엇으로 되어 있는가?\n",
    "# Object : 문자\n",
    "# int    : 숫자(정수, integer)\n",
    "# float  : 숫자(실수, real number)\n",
    "# memory usage: 8.5+ MB : seoul 데이터가 메모리를 차지하는 양\n",
    "# 기본 : 8GB = 8000MB"
   ]
  },
  {
   "cell_type": "code",
   "execution_count": 5,
   "id": "83857c2a-f5cd-41d1-8c78-9c5a8d0b53a5",
   "metadata": {},
   "outputs": [],
   "source": [
    "# 데이터 전처리(Data Pre-Processing, 데이터 핸들링)"
   ]
  },
  {
   "cell_type": "code",
   "execution_count": 6,
   "id": "3b9ba081-9f3f-4aaa-bf01-eb1c9cfb5307",
   "metadata": {},
   "outputs": [],
   "source": [
    "# 탐색적 데이터 분석"
   ]
  },
  {
   "cell_type": "markdown",
   "id": "eea9ed2e-4ce9-4390-8fad-b14f0f0eb6aa",
   "metadata": {},
   "source": [
    "### 1. 범주형 데이터 분석 : 1개의 열\n",
    "- 표 = 빈도표(Frequency Table) : 빈도, 백분율\n",
    "- 데이터 시각화(Data Visualization) : 막대그래프(Bar Chart), 원그래프(비추)"
   ]
  },
  {
   "cell_type": "markdown",
   "id": "943af1d0-780f-4946-a010-d19d4a4680db",
   "metadata": {},
   "source": [
    "<div style=\"\n",
    "    background-color:#f0f9ff;\n",
    "    border:1px solid #cce7ff;\n",
    "    border-radius:15px;\n",
    "    padding:10px 15px;\n",
    "    margin:10px 0;\n",
    "    box-shadow:2px 2px 6px rgba(0,0,0,0.1);\n",
    "    font-family:Arial, sans-serif;\">\n",
    "seoul 데이터에 신고구분 열에 대해서 빈도와 백분율을 구하고, 빈도를 기준으로 막대그래프를 작성해 주세요.\n",
    "</div>"
   ]
  },
  {
   "cell_type": "code",
   "execution_count": 10,
   "id": "7af4cace-0e94-4e21-b176-daa6e124a36b",
   "metadata": {},
   "outputs": [
    {
     "name": "stdout",
     "output_type": "stream",
     "text": [
      "         빈도  백분율(%)\n",
      "신고구분               \n",
      "중개거래  82516    89.1\n",
      "직거래   10090    10.9\n"
     ]
    },
    {
     "data": {
      "image/png": "[encoded data removed]",
      "text/plain": [
       "<Figure size 800x600 with 1 Axes>"
      ]
     },
     "metadata": {},
     "output_type": "display_data"
    }
   ],
   "source": [
    "# 신고구분 : 중개거래, 직거래\n",
    "# 범주형 데이터(Categorical Data)\n",
    "\n",
    "# 1. 신고구분 열의 빈도 계산\n",
    "freq = seoul['신고구분'].value_counts()\n",
    "\n",
    "# 2. 백분율 계산\n",
    "percent = seoul['신고구분'].value_counts(normalize = True) * 100\n",
    "\n",
    "# 3. 빈도와 백분율을 하나의 DataFrame으로 정리\n",
    "report_stats = pd.DataFrame({'빈도': freq, '백분율(%)': percent.round(2)})\n",
    "print(report_stats)\n",
    "\n",
    "# 4. 막대그래프 그리기 (빈도 기준)\n",
    "plt.figure(figsize = (8, 6))\n",
    "freq.plot(kind = 'bar', color = 'skyblue')\n",
    "plt.title(\"신고구분별 빈도\", fontsize = 14)\n",
    "plt.xlabel(\"신고구분\", fontsize = 12)\n",
    "plt.ylabel(\"빈도\", fontsize = 12)\n",
    "plt.xticks(rotation = 45)\n",
    "plt.tight_layout()\n",
    "plt.show()"
   ]
  },
  {
   "cell_type": "markdown",
   "id": "cf14165b-b6d2-489d-809f-7593b4c7cece",
   "metadata": {},
   "source": [
    "### 2. 수치형 데이터 분석 : 1개의 열\n",
    "- 표 = 빈도표 : 구간의 빈도, 백분율\n",
    "- 데이터 시각화 : 히스토그램, 상자그림, 바이올린\n",
    "- 기술통계량 = 요약통계량"
   ]
  },
  {
   "cell_type": "code",
   "execution_count": 11,
   "id": "26fb04ab-d91b-4ee2-b378-d3d2e58d143b",
   "metadata": {},
   "outputs": [
    {
     "data": {
      "text/plain": [
       "count    9.260600e+04\n",
       "mean     9.852107e+04\n",
       "std      9.692678e+04\n",
       "min      2.000000e+03\n",
       "25%      3.500000e+04\n",
       "50%      7.300000e+04\n",
       "75%      1.280000e+05\n",
       "max      3.200000e+06\n",
       "Name: 물건금액(만원), dtype: float64"
      ]
     },
     "execution_count": 11,
     "metadata": {},
     "output_type": "execute_result"
    }
   ],
   "source": [
    "# 물건금액(만원) : 수치형 데이터\n",
    "\n",
    "# 최소값 : 2,000만원\n",
    "# 최대값 :   320억원\n",
    "\n",
    "# 물건금액(만원) -> 물건금액Group\n",
    "# 0원 이상 ~ 10억원 미만 : 기본\n",
    "# 10억 이상 ~ 20억 미만 :  보통\n",
    "# 20억 이상 ~ 50억 미만 :  고급\n",
    "# 50억 이상 ~ 100억 미만 : 초고급\n",
    "# 100억 이상 ~ 500억 미만 : 초초고급"
   ]
  },
  {
   "cell_type": "markdown",
   "id": "06715e2d-3571-45d3-a601-63f955e49ded",
   "metadata": {},
   "source": [
    "<div style=\"\n",
    "    background-color:#f0f9ff;\n",
    "    border:1px solid #cce7ff;\n",
    "    border-radius:15px;\n",
    "    padding:10px 15px;\n",
    "    margin:10px 0;\n",
    "    box-shadow:2px 2px 6px rgba(0,0,0,0.1);\n",
    "    font-family:Arial, sans-serif;\">\n",
    "# 물건금액(만원) -> 물건금액Group<br/>\n",
    "# 0원 이상 ~ 10억원 미만 : 기본<br/>\n",
    "# 10억 이상 ~ 20억 미만 :  보통<br/>\n",
    "# 20억 이상 ~ 50억 미만 :  고급<br/>\n",
    "# 50억 이상 ~ 100억 미만 : 초고급<br/>\n",
    "# 100억 이상 ~ 500억 미만 : 초초고급<br/>\n",
    "<br/>\n",
    "위에 것을 참고해서 물건금액Group 이라는 새로운 열을 만들어 주세요.\n",
    "</div>"
   ]
  },
  {
   "cell_type": "code",
   "execution_count": 13,
   "id": "eac2702c-59d9-4f15-8082-ca308464baae",
   "metadata": {},
   "outputs": [
    {
     "name": "stdout",
     "output_type": "stream",
     "text": [
      "   물건금액(만원) 물건금액Group\n",
      "0     89000        기본\n",
      "1     68000        기본\n",
      "2     82000        기본\n",
      "3     38800        기본\n",
      "4     19000        기본\n",
      "5      8500        기본\n",
      "6     21500        기본\n",
      "7     62000        기본\n",
      "8     49400        기본\n",
      "9      9300        기본\n"
     ]
    }
   ],
   "source": [
    "# 구간 (단위: 만원)\n",
    "bins   = [0, 100000, 200000, 500000, 1000000, 5000000]\n",
    "labels = [\"기본\", \"보통\", \"고급\", \"초고급\", \"초초고급\"]\n",
    "\n",
    "# 새로운 열 생성\n",
    "seoul['물건금액Group'] = pd.cut(seoul['물건금액(만원)'], \n",
    "                               bins   = bins, \n",
    "                               labels = labels, \n",
    "                               right  = False)\n",
    "\n",
    "# 결과 확인\n",
    "print(seoul[['물건금액(만원)', '물건금액Group']].head(10))"
   ]
  },
  {
   "cell_type": "code",
   "execution_count": null,
   "id": "4ee0a0c2-1b3c-43cc-89f2-51a880154d27",
   "metadata": {},
   "outputs": [],
   "source": []
  },
  {
   "cell_type": "markdown",
   "id": "64dfbb2f-8f0e-4e09-ae8e-5617f3432a98",
   "metadata": {},
   "source": [
    "<div style=\"\n",
    "    background-color:#f0f9ff;\n",
    "    border:1px solid #cce7ff;\n",
    "    border-radius:15px;\n",
    "    padding:10px 15px;\n",
    "    margin:10px 0;\n",
    "    box-shadow:2px 2px 6px rgba(0,0,0,0.1);\n",
    "    font-family:Arial, sans-serif;\">\n",
    "물건금액Group에 대한 빈도와 백분율을 구해 주세요.\n",
    "</div>"
   ]
  },
  {
   "cell_type": "code",
   "execution_count": 14,
   "id": "bda34347-dc27-42fe-8e9f-c7fef8e2784d",
   "metadata": {},
   "outputs": [
    {
     "name": "stdout",
     "output_type": "stream",
     "text": [
      "              빈도  백분율(%)\n",
      "물건금액Group               \n",
      "기본         59303   64.04\n",
      "보통         24163   26.09\n",
      "고급          8435    9.11\n",
      "초고급          657    0.71\n",
      "초초고급          48    0.05\n"
     ]
    }
   ],
   "source": [
    "# 1. 빈도 계산\n",
    "freq_group = seoul['물건금액Group'].value_counts().sort_index()\n",
    "\n",
    "# 2. 백분율 계산\n",
    "percent_group = seoul['물건금액Group'].value_counts(normalize = True).sort_index() * 100\n",
    "\n",
    "# 3. 데이터프레임으로 정리\n",
    "price_group_stats = pd.DataFrame({\n",
    "    '빈도'     : freq_group,\n",
    "    '백분율(%)': percent_group.round(2)\n",
    "})\n",
    "\n",
    "print(price_group_stats)"
   ]
  },
  {
   "cell_type": "markdown",
   "id": "fafb5e4e-a4ac-4ba3-b157-4b04c709e3ae",
   "metadata": {},
   "source": [
    "<div style=\"\n",
    "    background-color:#f0f9ff;\n",
    "    border:1px solid #cce7ff;\n",
    "    border-radius:15px;\n",
    "    padding:10px 15px;\n",
    "    margin:10px 0;\n",
    "    box-shadow:2px 2px 6px rgba(0,0,0,0.1);\n",
    "    font-family:Arial, sans-serif;\">\n",
    "물건금액(만원) 열에 대한 데이터 시각화로 히스토그램, 상자그림, 바이올린을 작성해 주세요.\n",
    "</div>"
   ]
  },
  {
   "cell_type": "code",
   "execution_count": 16,
   "id": "c3a33635-8a7d-4de7-8915-c91e9f07c7dc",
   "metadata": {},
   "outputs": [
    {
     "data": {
      "image/png": "[encoded data removed]",
      "text/plain": [
       "<Figure size 1600x500 with 3 Axes>"
      ]
     },
     "metadata": {},
     "output_type": "display_data"
    }
   ],
   "source": [
    "# Figure 생성\n",
    "plt.figure(figsize = (16, 5))\n",
    "\n",
    "# 1. 히스토그램\n",
    "plt.subplot(1, 3, 1)\n",
    "plt.hist(seoul['물건금액(만원)'], bins = 50, color = 'skyblue', edgecolor = 'black')\n",
    "plt.title(\"물건금액(만원) - 히스토그램\")\n",
    "plt.xlabel(\"물건금액(만원)\")\n",
    "plt.ylabel(\"빈도\")\n",
    "\n",
    "# 2. 상자그림\n",
    "plt.subplot(1, 3, 2)\n",
    "sns.boxplot(y = seoul['물건금액(만원)'], color = 'lightgreen')\n",
    "plt.title(\"물건금액(만원) - 상자그림\")\n",
    "\n",
    "# 3. 바이올린플롯\n",
    "plt.subplot(1, 3, 3)\n",
    "sns.violinplot(y = seoul['물건금액(만원)'], color = 'lightcoral')\n",
    "plt.title(\"물건금액(만원) - 바이올린플롯\")\n",
    "\n",
    "plt.tight_layout()\n",
    "plt.show()"
   ]
  },
  {
   "cell_type": "code",
   "execution_count": 17,
   "id": "b4d63b63-67aa-4bc5-b3fb-753712b30d7e",
   "metadata": {},
   "outputs": [],
   "source": [
    "# 이상치(Outlier) : 수치형 데이터에서 아주 큰 값이나 아주 작은 값\n",
    "# 신호와 소음 : 책\n",
    "# Signal and Noise\n",
    "\n",
    "# 이상치 처리 방법\n",
    "# (1) 그냥 쓴다.\n",
    "# (2) 삭제한다.\n",
    "# (3) 대체한다.\n",
    "# (4) 변환한다 : Root, Log, Inverse"
   ]
  },
  {
   "cell_type": "markdown",
   "id": "ee8e781b-f3bc-4adb-9711-047890b2c76a",
   "metadata": {},
   "source": [
    "<div style=\"\n",
    "    background-color:#f0f9ff;\n",
    "    border:1px solid #cce7ff;\n",
    "    border-radius:15px;\n",
    "    padding:10px 15px;\n",
    "    margin:10px 0;\n",
    "    box-shadow:2px 2px 6px rgba(0,0,0,0.1);\n",
    "    font-family:Arial, sans-serif;\">\n",
    "물건금액(만원) 열에 대한 기술통계량을 구해주세요.\n",
    "</div>"
   ]
  },
  {
   "cell_type": "code",
   "execution_count": 18,
   "id": "0293179a-c172-464e-96d6-8693d0d0f640",
   "metadata": {},
   "outputs": [
    {
     "name": "stdout",
     "output_type": "stream",
     "text": [
      "count    9.260600e+04\n",
      "mean     9.852107e+04\n",
      "std      9.692678e+04\n",
      "min      2.000000e+03\n",
      "25%      3.500000e+04\n",
      "50%      7.300000e+04\n",
      "75%      1.280000e+05\n",
      "max      3.200000e+06\n",
      "Name: 물건금액(만원), dtype: float64\n"
     ]
    }
   ],
   "source": [
    "# 기술통계량\n",
    "stats = seoul['물건금액(만원)'].describe()\n",
    "print(stats)"
   ]
  },
  {
   "cell_type": "code",
   "execution_count": 19,
   "id": "47611422-68f1-4094-a8ed-bebb6ab55b9c",
   "metadata": {},
   "outputs": [],
   "source": [
    "# count : 데이터의 개수\n",
    "#         N : 모집단의 데이터의 개수\n",
    "#         n : 표본의 데이터의 개수, 표본크기, sample size\n",
    "\n",
    "# mean : 평균, 약 10억원\n",
    "# std  : 표준편차(Standard Deviation, SD), 평균(중심)과 얼마나 다를까?\n",
    "# 25%  : 제1 사분위수(Q1, First Quartile, 첫 번째 데이터를 4등분 시키는 값)\n",
    "# 50%  : 중위수 = 중앙값(Median) : 데이터의 개수를 반으로 나누는 값, 중심(대표값)\n",
    "# 75%  : 제3 사분위수(Q3, Third Quartile)\n",
    "\n",
    "# 참고\n",
    "# 중위수절대편차 : 중위수와 얼마나 다를까?"
   ]
  },
  {
   "cell_type": "markdown",
   "id": "2a0a88e0-fdfc-4552-8d6b-7bc3a2b5fcf2",
   "metadata": {},
   "source": [
    "### 3. 범주형 데이터의 분석 : 2개의 열\n",
    "- 표 = 교차표 : 빈도, 전체 백분율, 행 백분율, 열 백분율\n",
    "- 데이터 시각화 : 누적막대그래프"
   ]
  },
  {
   "cell_type": "markdown",
   "id": "6a1867d4-b850-4fc8-a9fa-8fc531ff8078",
   "metadata": {},
   "source": [
    "<div style=\"\n",
    "    background-color:#f0f9ff;\n",
    "    border:1px solid #cce7ff;\n",
    "    border-radius:15px;\n",
    "    padding:10px 15px;\n",
    "    margin:10px 0;\n",
    "    box-shadow:2px 2px 6px rgba(0,0,0,0.1);\n",
    "    font-family:Arial, sans-serif;\">\n",
    "자치구명과 신고구분에 대한 빈도와 행백분율을 구하고,\n",
    "행백분율을 기준으로 누적막대그래프를 그려주세요.\n",
    "</div>"
   ]
  },
  {
   "cell_type": "code",
   "execution_count": 20,
   "id": "76a20fa0-c169-4bf9-85d0-a2aff804946b",
   "metadata": {},
   "outputs": [
    {
     "name": "stdout",
     "output_type": "stream",
     "text": [
      "빈도표:\n",
      "신고구분  중개거래  직거래\n",
      "자치구명           \n",
      "강남구   4231  291\n",
      "강동구   5078  424\n",
      "강북구   1712  417\n",
      "강서구   4931  645\n",
      "관악구   2589  345\n",
      "광진구   2827  475\n",
      "구로구   3162  726\n",
      "금천구   1202  370\n",
      "노원구   4133  228\n",
      "도봉구   1921  289\n",
      "동대문구  3556  767\n",
      "동작구   4289  377\n",
      "마포구   4562  350\n",
      "서대문구  2970  287\n",
      "서초구   3396  150\n",
      "성동구   4086  633\n",
      "성북구   3790  449\n",
      "송파구   5624  406\n",
      "양천구   3967  432\n",
      "영등포구  4177  351\n",
      "용산구   2033  249\n",
      "은평구   3658  537\n",
      "종로구    960  331\n",
      "중구    1375  178\n",
      "중랑구   2287  383\n",
      "\n",
      "행 백분율:\n",
      "신고구분   중개거래    직거래\n",
      "자치구명              \n",
      "강남구   93.56   6.44\n",
      "강동구   92.29   7.71\n",
      "강북구   80.41  19.59\n",
      "강서구   88.43  11.57\n",
      "관악구   88.24  11.76\n",
      "광진구   85.61  14.39\n",
      "구로구   81.33  18.67\n",
      "금천구   76.46  23.54\n",
      "노원구   94.77   5.23\n",
      "도봉구   86.92  13.08\n",
      "동대문구  82.26  17.74\n",
      "동작구   91.92   8.08\n",
      "마포구   92.87   7.13\n",
      "서대문구  91.19   8.81\n",
      "서초구   95.77   4.23\n",
      "성동구   86.59  13.41\n",
      "성북구   89.41  10.59\n",
      "송파구   93.27   6.73\n",
      "양천구   90.18   9.82\n",
      "영등포구  92.25   7.75\n",
      "용산구   89.09  10.91\n",
      "은평구   87.20  12.80\n",
      "종로구   74.36  25.64\n",
      "중구    88.54  11.46\n",
      "중랑구   85.66  14.34\n"
     ]
    },
    {
     "data": {
      "image/png": "[encoded data removed]",
      "text/plain": [
       "<Figure size 1200x700 with 1 Axes>"
      ]
     },
     "metadata": {},
     "output_type": "display_data"
    }
   ],
   "source": [
    "import pandas as pd\n",
    "import matplotlib.pyplot as plt\n",
    "\n",
    "# 1. 교차표 생성 (빈도)\n",
    "crosstab_freq = pd.crosstab(seoul['자치구명'], seoul['신고구분'])\n",
    "\n",
    "# 2. 행 백분율 계산\n",
    "crosstab_rowpct = crosstab_freq.div(crosstab_freq.sum(axis=1), axis=0) * 100\n",
    "\n",
    "# 3. 결과 확인\n",
    "print(\"빈도표:\")\n",
    "print(crosstab_freq)\n",
    "print(\"\\n행 백분율:\")\n",
    "print(crosstab_rowpct.round(2))\n",
    "\n",
    "# 4. 행 백분율 기준 누적 막대그래프\n",
    "crosstab_rowpct.plot(kind='bar', stacked=True, figsize=(12, 7), colormap=\"tab20\")\n",
    "\n",
    "plt.title(\"자치구명 × 신고구분 (행 백분율 기준 누적막대그래프)\", fontsize=14)\n",
    "plt.xlabel(\"자치구명\", fontsize=12)\n",
    "plt.ylabel(\"행 백분율 (%)\", fontsize=12)\n",
    "plt.legend(title=\"신고구분\", bbox_to_anchor=(1.05, 1), loc='upper left')\n",
    "plt.tight_layout()\n",
    "plt.show()"
   ]
  },
  {
   "cell_type": "code",
   "execution_count": null,
   "id": "bcebe0fa-0f1b-4483-a751-3b81121d1f98",
   "metadata": {},
   "outputs": [],
   "source": []
  }
 ],
 "metadata": {
  "kernelspec": {
   "display_name": "Python 3 (ipykernel)",
   "language": "python",
   "name": "python3"
  },
  "language_info": {
   "codemirror_mode": {
    "name": "ipython",
    "version": 3
   },
   "file_extension": ".py",
   "mimetype": "text/x-python",
   "name": "python",
   "nbconvert_exporter": "python",
   "pygments_lexer": "ipython3",
   "version": "3.13.2"
  }
 },
 "nbformat": 4,
 "nbformat_minor": 5
}
